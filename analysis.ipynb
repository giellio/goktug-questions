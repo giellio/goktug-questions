{
 "cells": [
  {
   "cell_type": "code",
   "execution_count": null,
   "metadata": {},
   "outputs": [],
   "source": [
    "import pandas as pd\n",
    "import matplotlib.pyplot as plt\n",
    "url = \"https://docs.google.com/spreadsheets/d/1YBhZJD_jkzJEGYbT-Q58bDe6M2bhUES6rvWlGtQn-pY/gviz/tq?tqx=out:csv&sheet=sheet1\"\n",
    "df = pd.read_csv(url)\n",
    "\n",
    "df.shape[0]"
   ]
  },
  {
   "cell_type": "code",
   "execution_count": null,
   "metadata": {},
   "outputs": [],
   "source": [
    "\n",
    "df['Class'] = df['Class'].str.strip()\n",
    "df['Class'] = df['Class'].str.lower()\n",
    "fig, ax = plt.subplots()\n",
    "plt.tight_layout()\n",
    "df['Class'].value_counts().plot(kind='barh', ax=ax);\n",
    "fig.savefig('bar.png', transparent=True, bbox_inches='tight')"
   ]
  },
  {
   "cell_type": "code",
   "execution_count": null,
   "metadata": {},
   "outputs": [],
   "source": [
    "\n",
    "df['Class'].value_counts().plot(kind='pie')"
   ]
  },
  {
   "cell_type": "code",
   "execution_count": null,
   "metadata": {},
   "outputs": [],
   "source": [
    "df['Class'] = df['Class'].str.replace('tutor hour', '')\n",
    "df['Class'] = df['Class'].str.replace('exercise class', '')\n",
    "df['Class'] = df['Class'].str.replace('discussion group', '')\n",
    "df['Class'] = df['Class'].str.replace('weekly test', '')\n",
    "df['Class'] = df['Class'].str.replace('test', '')\n",
    "df['Class'] = df['Class'].str.replace('lecture', '')\n",
    "df['Class'] = df['Class'].str.replace('labsession', '')\n",
    "df['Class'] = df['Class'].str.replace('instruction', '')\n",
    "df['Class'].value_counts().plot(kind='pie')"
   ]
  },
  {
   "cell_type": "code",
   "execution_count": null,
   "metadata": {},
   "outputs": [],
   "source": [
    "df['Class'].value_counts().plot(kind='barh')"
   ]
  }
 ],
 "metadata": {
  "kernelspec": {
   "display_name": "base",
   "language": "python",
   "name": "python3"
  },
  "language_info": {
   "codemirror_mode": {
    "name": "ipython",
    "version": 3
   },
   "file_extension": ".py",
   "mimetype": "text/x-python",
   "name": "python",
   "nbconvert_exporter": "python",
   "pygments_lexer": "ipython3",
   "version": "3.12.4"
  }
 },
 "nbformat": 4,
 "nbformat_minor": 2
}
